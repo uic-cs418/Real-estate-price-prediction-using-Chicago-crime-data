{
 "cells": [
  {
   "cell_type": "markdown",
   "metadata": {},
   "source": [
    "#                                    Progress Report - Crime Pricers"
   ]
  },
  {
   "cell_type": "markdown",
   "metadata": {},
   "source": [
    "Project introduction: an introduction that discusses the data you are analyzing,\n",
    "and the question or questions you are investigating.\n",
    "\n",
    " - We are trying to predict house prices in Chicago based on Chicago Crime and Real estate data.\n",
    " - We are analyzing Chicago cime and real estate datasets.\n",
    " - Does house prices change with respect crime? If yes, does it increase or decrese?\n",
    " - Does certain type of crime have higher impact on house prices?\n"
   ]
  },
  {
   "cell_type": "code",
   "execution_count": null,
   "metadata": {},
   "outputs": [],
   "source": []
  },
  {
   "cell_type": "markdown",
   "metadata": {},
   "source": [
    "Any changes: a discussion whether your scope has changed since the check-in\n",
    "proposal slides. What did you aim to do that you will not do and what have you\n",
    "added to the project?\n",
    "\n",
    "- No changes to scope."
   ]
  },
  {
   "cell_type": "code",
   "execution_count": null,
   "metadata": {},
   "outputs": [],
   "source": []
  },
  {
   "cell_type": "markdown",
   "metadata": {},
   "source": [
    "Data cleaning: show clearly how you cleaned your data."
   ]
  },
  {
   "cell_type": "code",
   "execution_count": null,
   "metadata": {},
   "outputs": [],
   "source": []
  },
  {
   "cell_type": "markdown",
   "metadata": {},
   "source": [
    "Exploratory data analysis: explain what your data looks like (words are fine, but\n",
    "visualizations are often better). Include any interesting issues or preliminary\n",
    "conclusions you have about your data\n",
    " \n",
    "Crime Data: \n",
    "- Granularity: Fine grained\n",
    "- Scope: List of crimes recorded in Chicago and its all districts from 2014 - 2018\n",
    "- Temporality: There are timestamps for recorded incidents and dataset begins with cronological order of date.\n",
    "- Faithfulness: Police Departments intention are to be transparent about crime and the reporting of the incidents due to their work to provide law enforcement to seek justice. This being said we are confident that the documenting of the incidents is accurate and upholding the high moral standard and interity of the Chicago Police Department.\n",
    "\n",
    "RealEstate Data:\n",
    "- Granularity: Data is coarse grained when compared crime data.\n",
    "- Scope: House prices for specific month of year grouped by neighbourhood are listed.\n",
    "- Temporality: House price details are obtained from 2012 to 2019.  Month and year information is available in dataset.\n",
    "- Faithfulness: House prices have been downloaded from Zillow via API parsing, so we are confident that this reflects correct information."
   ]
  },
  {
   "cell_type": "code",
   "execution_count": null,
   "metadata": {},
   "outputs": [],
   "source": []
  },
  {
   "cell_type": "markdown",
   "metadata": {},
   "source": [
    "At least one visualization that tests an interesting hypothesis, along with an\n",
    "explanation about why you thought this was an interesting hypothesis to\n",
    "investigate. "
   ]
  },
  {
   "cell_type": "code",
   "execution_count": null,
   "metadata": {},
   "outputs": [],
   "source": []
  },
  {
   "cell_type": "markdown",
   "metadata": {},
   "source": [
    "At least one ML analysis on your dataset, along with a baseline comparison\n",
    "and an interpretation of the result that you obtain"
   ]
  },
  {
   "cell_type": "code",
   "execution_count": null,
   "metadata": {},
   "outputs": [],
   "source": []
  },
  {
   "cell_type": "markdown",
   "metadata": {},
   "source": [
    "Reflection: a discussion of the following:\n",
    "1. What is hardest part of the project that you’ve encountered so far?\n",
    "    - Finding a way to combine crime and realestate datasets to run ML model.\n",
    "\n",
    "2. What are your initial insights?\n",
    "    - \n",
    "3. Are there any concrete results you can show at this point? If not, why not?\n",
    "    - Interactive application to display result is up and running. \n",
    "4. Going forward, what are the current biggest problems you’re facing?\n",
    "    - Feeding ML model results through interactive application. \n",
    "5. Do you think you are on track with your project? If not, what parts do you need to dedicate more time to?\n",
    "    - Yes.\n",
    "6. Given your initial exploration of the data, is it worth proceeding with your project, why? If not, how are you going to change your project and why do you think it’s better than your current results?\n",
    "- \n"
   ]
  },
  {
   "cell_type": "code",
   "execution_count": null,
   "metadata": {},
   "outputs": [],
   "source": []
  },
  {
   "cell_type": "markdown",
   "metadata": {},
   "source": [
    "Next steps: What you plan to accomplish in the next month and how you plan to\n",
    "evaluate whether your project achieved the goals you set for it.\n",
    "\n",
    "- We planned to run various ML models with combined crime and real estate data set and evaluate the results through test set.\n",
    "- Intergrated generated results into interactive application and rigourously test it. "
   ]
  },
  {
   "cell_type": "code",
   "execution_count": null,
   "metadata": {},
   "outputs": [],
   "source": []
  }
 ],
 "metadata": {
  "kernelspec": {
   "display_name": "Python 3",
   "language": "python",
   "name": "python3"
  },
  "language_info": {
   "codemirror_mode": {
    "name": "ipython",
    "version": 3
   },
   "file_extension": ".py",
   "mimetype": "text/x-python",
   "name": "python",
   "nbconvert_exporter": "python",
   "pygments_lexer": "ipython3",
   "version": "3.7.1"
  }
 },
 "nbformat": 4,
 "nbformat_minor": 2
}
