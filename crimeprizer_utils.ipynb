{
 "cells": [
  {
   "cell_type": "code",
   "execution_count": 12,
   "metadata": {},
   "outputs": [],
   "source": [
    "### Chicago crime analysis\n",
    "import numpy as np\n",
    "from sklearn.model_selection import train_test_split\n",
    "from sklearn import tree\n",
    "from sklearn.model_selection import cross_val_score\n",
    "import matplotlib.pyplot as plt"
   ]
  },
  {
   "cell_type": "code",
   "execution_count": 5,
   "metadata": {},
   "outputs": [],
   "source": [
    "seeds = np.random.seed(1234)\n",
    "\n",
    "def split_data(train_data, test_data, num):\n",
    "    x_train, x_test, y_train, y_test = train_test_split(tr, test_data, test_size=num, random_state=seeds)\n",
    "    return x, x_test, y_train, y_test"
   ]
  },
  {
   "cell_type": "code",
   "execution_count": 6,
   "metadata": {},
   "outputs": [],
   "source": [
    "## kfold cross validation\n",
    "\n",
    "def kfold_cv(x_train, y_train):\n",
    "    acc=[]\n",
    "    depth = range(1,20)\n",
    "    for i in depth:\n",
    "        model = tree.DecisionTreeClassifier(max_depth=i)\n",
    "        model.fit(x_train, y_train)\n",
    "        acc.append(np.mean(cross_val_score(model, x_train, y_train, cv=5)))\n",
    "    depth_ = depth[np.argmax(acc)]\n",
    "    return depth_"
   ]
  },
  {
   "cell_type": "code",
   "execution_count": 9,
   "metadata": {},
   "outputs": [],
   "source": [
    "def cv(num, model, x_test, y_test):\n",
    "    \"\"\"\n",
    "    this function is going to examine model accuracy based on the given test set\n",
    "    \"\"\"\n",
    "    cv_score = cross_val_score(model, x_test, y_test, cv=num)\n",
    "    cv_score = np.mean(cv_score)\n",
    "    cv_df = pd.DataFrame({\"index\": list(range(1, n+1)), \"cross validation score\": cv_score})\n",
    "    return cv_df"
   ]
  },
  {
   "cell_type": "code",
   "execution_count": 11,
   "metadata": {},
   "outputs": [],
   "source": [
    "### build decision tree\n",
    "\n",
    "def decision_tree(feature_columns, df):\n",
    "    \"\"\"\n",
    "    this function takes a dataframe and an array for feature,\n",
    "    fits a decision tree model with max depth as 4, and provides prediction results for the test set\n",
    "    \"\"\"\n",
    "    x = df.loc[: feature_columns]\n",
    "    y = df.Arrest\n",
    "    x_train, x_test, y_train, y_test = split_data(x,y, 0.1)\n",
    "    \n",
    "    # fit decision tree\n",
    "    model = tree.DecisionTreeClassifier(max_depth=4)\n",
    "    model.fit(x_train, y_train)\n",
    "    pred = model.predict(x_test)\n",
    "    \n",
    "    ## prediction summary\n",
    "    pred_dict = x_test.copy.deepcopy()\n",
    "    pred_dict['target']=y_test\n",
    "    pred_dict['prediction']=pred\n",
    "    \n",
    "    cv_df = cv(10, model, x_test, y_test)\n",
    "    kfold_cv(x_train, y_train)\n",
    "    return pred_dict, model, cv_df\n"
   ]
  },
  {
   "cell_type": "code",
   "execution_count": 15,
   "metadata": {},
   "outputs": [
    {
     "data": {
      "text/plain": [
       "'\\nanother way to select importance features\\n\\ndef selectKImportance(model, X, k=5):\\n     return X[:,model.feature_importances_.argsort()[::-1][:k]]\\n\\n'"
      ]
     },
     "execution_count": 15,
     "metadata": {},
     "output_type": "execute_result"
    }
   ],
   "source": [
    "## feature importance\n",
    "\n",
    "# https://datascience.stackexchange.com/questions/6683/feature-selection-using-feature-importances-in-random-forests-with-scikit-learn?rq=1\n",
    "\n",
    "def feature_importance(model, feature_columns):\n",
    "    feature = model.tree_.compute_feature_importances(normalize=False)\n",
    "    feature_df = pd.DataFrame([feature], columns= feature_columns)\n",
    "    return feature_df\n",
    "\n",
    "\"\"\"\n",
    "another way to select importance features\n",
    "\n",
    "def selectKImportance(model, X, k=5):\n",
    "     return X[:,model.feature_importances_.argsort()[::-1][:k]]\n",
    "\n",
    "\"\"\""
   ]
  },
  {
   "cell_type": "code",
   "execution_count": null,
   "metadata": {},
   "outputs": [],
   "source": []
  }
 ],
 "metadata": {
  "kernelspec": {
   "display_name": "Python 3",
   "language": "python",
   "name": "python3"
  },
  "language_info": {
   "codemirror_mode": {
    "name": "ipython",
    "version": 3
   },
   "file_extension": ".py",
   "mimetype": "text/x-python",
   "name": "python",
   "nbconvert_exporter": "python",
   "pygments_lexer": "ipython3",
   "version": "3.7.3"
  }
 },
 "nbformat": 4,
 "nbformat_minor": 2
}
