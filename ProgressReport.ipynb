{
 "cells": [
  {
   "cell_type": "markdown",
   "metadata": {},
   "source": [
    "#                                    Progress Report - Crime Pricers"
   ]
  },
  {
   "cell_type": "markdown",
   "metadata": {},
   "source": [
    "Project introduction: an introduction that discusses the data you are analyzing,\n",
    "and the question or questions you are investigating. "
   ]
  },
  {
   "cell_type": "code",
   "execution_count": null,
   "metadata": {},
   "outputs": [],
   "source": []
  },
  {
   "cell_type": "markdown",
   "metadata": {},
   "source": [
    "Any changes: a discussion whether your scope has changed since the check-in\n",
    "proposal slides. What did you aim to do that you will not do and what have you\n",
    "added to the project?"
   ]
  },
  {
   "cell_type": "code",
   "execution_count": null,
   "metadata": {},
   "outputs": [],
   "source": []
  },
  {
   "cell_type": "markdown",
   "metadata": {},
   "source": [
    "Data cleaning: show clearly how you cleaned your data."
   ]
  },
  {
   "cell_type": "code",
   "execution_count": null,
   "metadata": {},
   "outputs": [],
   "source": []
  },
  {
   "cell_type": "markdown",
   "metadata": {},
   "source": [
    "Exploratory data analysis: explain what your data looks like (words are fine, but\n",
    "visualizations are often better). Include any interesting issues or preliminary\n",
    "conclusions you have about your data"
   ]
  },
  {
   "cell_type": "code",
   "execution_count": null,
   "metadata": {},
   "outputs": [],
   "source": []
  },
  {
   "cell_type": "markdown",
   "metadata": {},
   "source": [
    "At least one visualization that tests an interesting hypothesis, along with an\n",
    "explanation about why you thought this was an interesting hypothesis to\n",
    "investigate. "
   ]
  },
  {
   "cell_type": "code",
   "execution_count": null,
   "metadata": {},
   "outputs": [],
   "source": []
  },
  {
   "cell_type": "markdown",
   "metadata": {},
   "source": [
    "At least one ML analysis on your dataset, along with a baseline comparison\n",
    "and an interpretation of the result that you obtain"
   ]
  },
  {
   "cell_type": "code",
   "execution_count": null,
   "metadata": {},
   "outputs": [],
   "source": []
  },
  {
   "cell_type": "markdown",
   "metadata": {},
   "source": [
    "Reflection: a discussion of the following:\n",
    "1. What is hardest part of the project that you’ve encountered so far?\n",
    "2. What are your initial insights?\n",
    "3. Are there any concrete results you can show at this point? If not, why not?\n",
    "4. Going forward, what are the current biggest problems you’re facing?\n",
    "5. Do you think you are on track with your project? If not, what parts do you\n",
    "need to dedicate more time to?\n",
    "6. Given your initial exploration of the data, is it worth proceeding with your\n",
    "project, why? If not, how are you going to change your project and why do\n",
    "you think it’s better than your current results?"
   ]
  },
  {
   "cell_type": "code",
   "execution_count": null,
   "metadata": {},
   "outputs": [],
   "source": []
  },
  {
   "cell_type": "markdown",
   "metadata": {},
   "source": [
    "Next steps: What you plan to accomplish in the next month and how you plan to\n",
    "evaluate whether your project achieved the goals you set for it."
   ]
  },
  {
   "cell_type": "code",
   "execution_count": null,
   "metadata": {},
   "outputs": [],
   "source": []
  }
 ],
 "metadata": {
  "kernelspec": {
   "display_name": "Python 3",
   "language": "python",
   "name": "python3"
  },
  "language_info": {
   "codemirror_mode": {
    "name": "ipython",
    "version": 3
   },
   "file_extension": ".py",
   "mimetype": "text/x-python",
   "name": "python",
   "nbconvert_exporter": "python",
   "pygments_lexer": "ipython3",
   "version": "3.7.1"
  }
 },
 "nbformat": 4,
 "nbformat_minor": 2
}
